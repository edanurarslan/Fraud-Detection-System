{
 "cells": [
  {
   "cell_type": "markdown",
   "id": "976c7801-3974-4b8c-a521-404bee271b70",
   "metadata": {},
   "source": [
    "**Training a classification model to classify fraud and non-fraud transactions.**"
   ]
  },
  {
   "cell_type": "markdown",
   "id": "2b8cd39f-d8f0-47d2-9637-5765728a691f",
   "metadata": {},
   "source": [
    "Splitting the data into training and test sets : "
   ]
  },
  {
   "cell_type": "code",
   "execution_count": 3,
   "id": "8094ff35-402e-46d0-9992-2905b2c285cb",
   "metadata": {},
   "outputs": [],
   "source": [
    "import numpy as np\n",
    "import pandas as pd\n",
    "from sklearn.model_selection import train_test_split\n",
    "\n",
    "data = pd.read_csv(\"creditcard.csv\")\n",
    "\n",
    "x = np.array(data[[\"type\", \"amount\", \"oldbalanceOrg\", \"newbalanceOrig\"]])\n",
    "y = np.array(data[[\"isFraud\"]])"
   ]
  },
  {
   "cell_type": "markdown",
   "id": "72b85b49-7a5b-4900-8871-27b336c3f7f5",
   "metadata": {},
   "source": [
    "Starting to train the online payments fraud detection model :"
   ]
  },
  {
   "cell_type": "code",
   "execution_count": 5,
   "id": "c9a3e8ea-7725-4f7b-b42c-a6533ea5452c",
   "metadata": {},
   "outputs": [
    {
     "name": "stdout",
     "output_type": "stream",
     "text": [
      "Accuracy on test data: 0.9997359578286932\n"
     ]
    }
   ],
   "source": [
    "from sklearn.preprocessing import OneHotEncoder\n",
    "from sklearn.compose import ColumnTransformer\n",
    "from sklearn.tree import DecisionTreeClassifier\n",
    "\n",
    "# Transform 'type' column using OneHotEncoder\n",
    "ct = ColumnTransformer(transformers=[('encoder', OneHotEncoder(), [0])], remainder='passthrough')\n",
    "x = ct.fit_transform(x)\n",
    "\n",
    "# Split the dataset into training and test sets\n",
    "xtrain, xtest, ytrain, ytest = train_test_split(x, y, test_size=0.10, random_state=42)\n",
    "\n",
    "# Create and train DecisionTreeClassifier model\n",
    "model = DecisionTreeClassifier()\n",
    "model.fit(xtrain, ytrain)\n",
    "\n",
    "# Evaluate the model accuracy on test data\n",
    "print(\"Accuracy on test data:\", model.score(xtest, ytest))"
   ]
  },
  {
   "cell_type": "markdown",
   "id": "79e6c112-806b-48ac-9401-816532447e4e",
   "metadata": {},
   "source": [
    "Classifiying whether a transaction is a fraud or not by feeding about a transaction into the model :"
   ]
  },
  {
   "cell_type": "code",
   "execution_count": 43,
   "id": "ef0b76a1-c6a3-48b1-8d16-b7789bceed64",
   "metadata": {},
   "outputs": [
    {
     "name": "stdout",
     "output_type": "stream",
     "text": [
      "[1]\n"
     ]
    }
   ],
   "source": [
    "#prediction\n",
    "#features = [type, amount, oldbalanceOrg, newbalanceOrig]\n",
    "features = np.array([[4, 9000.60, 9000.60, 0.0, 4, 9000.60, 9000.60, 0.0]])\n",
    "print(model.predict(features))"
   ]
  },
  {
   "cell_type": "code",
   "execution_count": null,
   "id": "ac16f389-4ad4-442d-a991-9a28b0175766",
   "metadata": {},
   "outputs": [],
   "source": []
  }
 ],
 "metadata": {
  "kernelspec": {
   "display_name": "Python 3 (ipykernel)",
   "language": "python",
   "name": "python3"
  },
  "language_info": {
   "codemirror_mode": {
    "name": "ipython",
    "version": 3
   },
   "file_extension": ".py",
   "mimetype": "text/x-python",
   "name": "python",
   "nbconvert_exporter": "python",
   "pygments_lexer": "ipython3",
   "version": "3.12.4"
  }
 },
 "nbformat": 4,
 "nbformat_minor": 5
}
